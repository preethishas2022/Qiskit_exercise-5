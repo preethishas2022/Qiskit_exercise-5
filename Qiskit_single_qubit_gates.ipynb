{
  "nbformat": 4,
  "nbformat_minor": 0,
  "metadata": {
    "colab": {
      "provenance": [],
      "include_colab_link": true
    },
    "kernelspec": {
      "name": "python3",
      "display_name": "Python 3"
    },
    "language_info": {
      "name": "python"
    }
  },
  "cells": [
    {
      "cell_type": "markdown",
      "metadata": {
        "id": "view-in-github",
        "colab_type": "text"
      },
      "source": [
        "<a href=\"https://colab.research.google.com/github/preethishas2022/Qiskit_exercise-5/blob/main/Qiskit_single_qubit_gates.ipynb\" target=\"_parent\"><img src=\"https://colab.research.google.com/assets/colab-badge.svg\" alt=\"Open In Colab\"/></a>"
      ]
    },
    {
      "cell_type": "code",
      "source": [
        "!pip install qiskit qiskit-aer --upgrade"
      ],
      "metadata": {
        "id": "Mx6284lurNt1",
        "colab": {
          "base_uri": "https://localhost:8080/"
        },
        "outputId": "90c84ecc-2a52-4001-f378-2fc43d9eb63d"
      },
      "execution_count": 1,
      "outputs": [
        {
          "output_type": "stream",
          "name": "stdout",
          "text": [
            "Collecting qiskit\n",
            "  Downloading qiskit-2.2.1-cp39-abi3-manylinux2014_x86_64.manylinux_2_17_x86_64.whl.metadata (12 kB)\n",
            "Collecting qiskit-aer\n",
            "  Downloading qiskit_aer-0.17.2-cp312-cp312-manylinux_2_17_x86_64.manylinux2014_x86_64.whl.metadata (8.3 kB)\n",
            "Collecting rustworkx>=0.15.0 (from qiskit)\n",
            "  Downloading rustworkx-0.17.1-cp39-abi3-manylinux_2_17_x86_64.manylinux2014_x86_64.whl.metadata (10 kB)\n",
            "Requirement already satisfied: numpy<3,>=1.17 in /usr/local/lib/python3.12/dist-packages (from qiskit) (2.0.2)\n",
            "Requirement already satisfied: scipy>=1.5 in /usr/local/lib/python3.12/dist-packages (from qiskit) (1.16.2)\n",
            "Requirement already satisfied: dill>=0.3 in /usr/local/lib/python3.12/dist-packages (from qiskit) (0.3.8)\n",
            "Collecting stevedore>=3.0.0 (from qiskit)\n",
            "  Downloading stevedore-5.5.0-py3-none-any.whl.metadata (2.2 kB)\n",
            "Requirement already satisfied: typing-extensions in /usr/local/lib/python3.12/dist-packages (from qiskit) (4.15.0)\n",
            "Requirement already satisfied: psutil>=5 in /usr/local/lib/python3.12/dist-packages (from qiskit-aer) (5.9.5)\n",
            "Requirement already satisfied: python-dateutil>=2.8.0 in /usr/local/lib/python3.12/dist-packages (from qiskit-aer) (2.9.0.post0)\n",
            "Requirement already satisfied: six>=1.5 in /usr/local/lib/python3.12/dist-packages (from python-dateutil>=2.8.0->qiskit-aer) (1.17.0)\n",
            "Downloading qiskit-2.2.1-cp39-abi3-manylinux2014_x86_64.manylinux_2_17_x86_64.whl (8.0 MB)\n",
            "\u001b[2K   \u001b[90m━━━━━━━━━━━━━━━━━━━━━━━━━━━━━━━━━━━━━━━━\u001b[0m \u001b[32m8.0/8.0 MB\u001b[0m \u001b[31m44.9 MB/s\u001b[0m eta \u001b[36m0:00:00\u001b[0m\n",
            "\u001b[?25hDownloading qiskit_aer-0.17.2-cp312-cp312-manylinux_2_17_x86_64.manylinux2014_x86_64.whl (12.4 MB)\n",
            "\u001b[2K   \u001b[90m━━━━━━━━━━━━━━━━━━━━━━━━━━━━━━━━━━━━━━━━\u001b[0m \u001b[32m12.4/12.4 MB\u001b[0m \u001b[31m85.0 MB/s\u001b[0m eta \u001b[36m0:00:00\u001b[0m\n",
            "\u001b[?25hDownloading rustworkx-0.17.1-cp39-abi3-manylinux_2_17_x86_64.manylinux2014_x86_64.whl (2.2 MB)\n",
            "\u001b[2K   \u001b[90m━━━━━━━━━━━━━━━━━━━━━━━━━━━━━━━━━━━━━━━━\u001b[0m \u001b[32m2.2/2.2 MB\u001b[0m \u001b[31m76.8 MB/s\u001b[0m eta \u001b[36m0:00:00\u001b[0m\n",
            "\u001b[?25hDownloading stevedore-5.5.0-py3-none-any.whl (49 kB)\n",
            "\u001b[2K   \u001b[90m━━━━━━━━━━━━━━━━━━━━━━━━━━━━━━━━━━━━━━━━\u001b[0m \u001b[32m49.5/49.5 kB\u001b[0m \u001b[31m4.2 MB/s\u001b[0m eta \u001b[36m0:00:00\u001b[0m\n",
            "\u001b[?25hInstalling collected packages: stevedore, rustworkx, qiskit, qiskit-aer\n",
            "Successfully installed qiskit-2.2.1 qiskit-aer-0.17.2 rustworkx-0.17.1 stevedore-5.5.0\n"
          ]
        }
      ]
    },
    {
      "cell_type": "code",
      "execution_count": 2,
      "metadata": {
        "id": "VPOwLacGrCdU"
      },
      "outputs": [],
      "source": [
        "from qiskit import QuantumCircuit, transpile\n",
        "from qiskit_aer import AerSimulator\n",
        "import numpy as np\n",
        "\n",
        "# Initialize simulator\n",
        "sim = AerSimulator()"
      ]
    },
    {
      "cell_type": "code",
      "source": [
        "# Helper function to run & print results\n",
        "def run_and_measure(qc, label):\n",
        "    compiled = transpile(qc, sim)\n",
        "    result = sim.run(compiled, shots=1024).result()\n",
        "    counts = result.get_counts()\n",
        "    print(f\"\\n=== {label} ===\")\n",
        "    print(qc.draw())\n",
        "    print(\"Measurement Counts:\", counts)"
      ],
      "metadata": {
        "id": "XXSzfpG9q7hc"
      },
      "execution_count": 3,
      "outputs": []
    },
    {
      "cell_type": "code",
      "source": [
        "# =====================================\n",
        "# 🧩 TASK 1: Change Gate Order\n",
        "# =====================================\n",
        "\n",
        "# Original order: X → H → S → T → RZ(0.5)\n",
        "qc_original = QuantumCircuit(1, 1)\n",
        "qc_original.x(0)\n",
        "qc_original.h(0)\n",
        "qc_original.s(0)\n",
        "qc_original.t(0)\n",
        "qc_original.rz(0.5, 0)\n",
        "qc_original.measure_all()\n",
        "\n",
        "# Swapped order: H → X → S → T → RZ(0.5)\n",
        "qc_swapped = QuantumCircuit(1, 1)\n",
        "qc_swapped.h(0)\n",
        "qc_swapped.x(0)\n",
        "qc_swapped.s(0)\n",
        "qc_swapped.t(0)\n",
        "qc_swapped.rz(0.5, 0)\n",
        "qc_swapped.measure_all()\n",
        "\n",
        "run_and_measure(qc_original, \"Task 1A: Original Order (X → H → S → T → RZ)\")\n",
        "run_and_measure(qc_swapped,  \"Task 1B: Swapped Order (H → X → S → T → RZ)\")\n"
      ],
      "metadata": {
        "colab": {
          "base_uri": "https://localhost:8080/"
        },
        "id": "7CH6O29AfjId",
        "outputId": "b5259f2a-be17-4d19-e446-9bb0864bdbbd"
      },
      "execution_count": 4,
      "outputs": [
        {
          "output_type": "stream",
          "name": "stdout",
          "text": [
            "\n",
            "=== Task 1A: Original Order (X → H → S → T → RZ) ===\n",
            "        ┌───┐┌───┐┌───┐┌───┐┌─────────┐ ░ ┌─┐\n",
            "     q: ┤ X ├┤ H ├┤ S ├┤ T ├┤ Rz(0.5) ├─░─┤M├\n",
            "        └───┘└───┘└───┘└───┘└─────────┘ ░ └╥┘\n",
            "   c: 1/═══════════════════════════════════╬═\n",
            "                                           ║ \n",
            "meas: 1/═══════════════════════════════════╩═\n",
            "                                           0 \n",
            "Measurement Counts: {'0 0': 545, '1 0': 479}\n",
            "\n",
            "=== Task 1B: Swapped Order (H → X → S → T → RZ) ===\n",
            "        ┌───┐┌───┐┌───┐┌───┐┌─────────┐ ░ ┌─┐\n",
            "     q: ┤ H ├┤ X ├┤ S ├┤ T ├┤ Rz(0.5) ├─░─┤M├\n",
            "        └───┘└───┘└───┘└───┘└─────────┘ ░ └╥┘\n",
            "   c: 1/═══════════════════════════════════╬═\n",
            "                                           ║ \n",
            "meas: 1/═══════════════════════════════════╩═\n",
            "                                           0 \n",
            "Measurement Counts: {'1 0': 472, '0 0': 552}\n"
          ]
        }
      ]
    },
    {
      "cell_type": "code",
      "source": [
        "# =====================================\n",
        "# 🌀 TASK 2: Vary Rotation Angle (θ)\n",
        "# =====================================\n",
        "\n",
        "angles = [np.pi/4, np.pi/2, np.pi]\n",
        "for theta in angles:\n",
        "    qc_theta = QuantumCircuit(1, 1)\n",
        "    qc_theta.x(0)\n",
        "    qc_theta.h(0)\n",
        "    qc_theta.s(0)\n",
        "    qc_theta.t(0)\n",
        "    qc_theta.rz(theta, 0)\n",
        "    qc_theta.measure_all()\n",
        "    run_and_measure(qc_theta, f\"Task 2: θ = {round(theta,3)} radians\")"
      ],
      "metadata": {
        "colab": {
          "base_uri": "https://localhost:8080/"
        },
        "id": "t6WAQLdVfzmw",
        "outputId": "9938282a-3803-4dea-bf18-880f2c7f4a95"
      },
      "execution_count": 5,
      "outputs": [
        {
          "output_type": "stream",
          "name": "stdout",
          "text": [
            "\n",
            "=== Task 2: θ = 0.785 radians ===\n",
            "        ┌───┐┌───┐┌───┐┌───┐┌─────────┐ ░ ┌─┐\n",
            "     q: ┤ X ├┤ H ├┤ S ├┤ T ├┤ Rz(π/4) ├─░─┤M├\n",
            "        └───┘└───┘└───┘└───┘└─────────┘ ░ └╥┘\n",
            "   c: 1/═══════════════════════════════════╬═\n",
            "                                           ║ \n",
            "meas: 1/═══════════════════════════════════╩═\n",
            "                                           0 \n",
            "Measurement Counts: {'0 0': 516, '1 0': 508}\n",
            "\n",
            "=== Task 2: θ = 1.571 radians ===\n",
            "        ┌───┐┌───┐┌───┐┌───┐┌─────────┐ ░ ┌─┐\n",
            "     q: ┤ X ├┤ H ├┤ S ├┤ T ├┤ Rz(π/2) ├─░─┤M├\n",
            "        └───┘└───┘└───┘└───┘└─────────┘ ░ └╥┘\n",
            "   c: 1/═══════════════════════════════════╬═\n",
            "                                           ║ \n",
            "meas: 1/═══════════════════════════════════╩═\n",
            "                                           0 \n",
            "Measurement Counts: {'0 0': 503, '1 0': 521}\n",
            "\n",
            "=== Task 2: θ = 3.142 radians ===\n",
            "        ┌───┐┌───┐┌───┐┌───┐┌───────┐ ░ ┌─┐\n",
            "     q: ┤ X ├┤ H ├┤ S ├┤ T ├┤ Rz(π) ├─░─┤M├\n",
            "        └───┘└───┘└───┘└───┘└───────┘ ░ └╥┘\n",
            "   c: 1/═════════════════════════════════╬═\n",
            "                                         ║ \n",
            "meas: 1/═════════════════════════════════╩═\n",
            "                                         0 \n",
            "Measurement Counts: {'1 0': 531, '0 0': 493}\n"
          ]
        }
      ]
    },
    {
      "cell_type": "code",
      "source": [
        "# =====================================\n",
        "# 🚫 TASK 3: Remove Hadamard Gate\n",
        "# =====================================\n",
        "\n",
        "qc_noH = QuantumCircuit(1, 1)\n",
        "qc_noH.x(0)\n",
        "qc_noH.s(0)\n",
        "qc_noH.t(0)\n",
        "qc_noH.rz(0.5, 0)\n",
        "qc_noH.measure_all()\n",
        "\n",
        "run_and_measure(qc_noH, \"Task 3: Without Hadamard Gate (Removed H)\")"
      ],
      "metadata": {
        "colab": {
          "base_uri": "https://localhost:8080/"
        },
        "id": "yVFQDGujgBXT",
        "outputId": "90458a24-01e9-4961-8af3-ef5e7f61a68b"
      },
      "execution_count": 6,
      "outputs": [
        {
          "output_type": "stream",
          "name": "stdout",
          "text": [
            "\n",
            "=== Task 3: Without Hadamard Gate (Removed H) ===\n",
            "        ┌───┐┌───┐┌───┐┌─────────┐ ░ ┌─┐\n",
            "     q: ┤ X ├┤ S ├┤ T ├┤ Rz(0.5) ├─░─┤M├\n",
            "        └───┘└───┘└───┘└─────────┘ ░ └╥┘\n",
            "   c: 1/══════════════════════════════╬═\n",
            "                                      ║ \n",
            "meas: 1/══════════════════════════════╩═\n",
            "                                      0 \n",
            "Measurement Counts: {'1 0': 1024}\n"
          ]
        }
      ]
    }
  ]
}